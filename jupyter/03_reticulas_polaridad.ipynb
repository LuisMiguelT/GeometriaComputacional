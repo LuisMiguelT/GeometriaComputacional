{
 "cells": [
  {
   "cell_type": "markdown",
   "metadata": {},
   "source": [
    "# Uso de polymake: Retículas de caras y polaridad\n",
    "\n",
    "En este cuaderno describiremos algunas de las funcionalidades que presenta polymake para estudiar las retículas de caras de polítopos, y para construir polítopos polares."
   ]
  },
  {
   "cell_type": "markdown",
   "metadata": {},
   "source": [
    "Definamos a `$p` como una pirámide de dimensión 3 sobre un poliedro:"
   ]
  },
  {
   "cell_type": "code",
   "execution_count": null,
   "metadata": {},
   "outputs": [],
   "source": [
    "$p = bipyramid(cube(3));\n",
    "$p->SCHLEGEL;"
   ]
  },
  {
   "cell_type": "markdown",
   "metadata": {},
   "source": [
    "Podemos consultar la dimensión de `$p`, listar sus vértices, sus facetas y la incidencia de vértices en facetas:"
   ]
  },
  {
   "cell_type": "code",
   "execution_count": null,
   "metadata": {},
   "outputs": [],
   "source": [
    "print \"Dimensión: \";\n",
    "print $p->DIM;\n",
    "print \"\\n\\nVértices:\\n\";\n",
    "print $p->VERTICES;\n",
    "print \"\\nFacetas:\\n\";\n",
    "print_constraints($p->FACETS);\n",
    "print \"Incidencia vértices-facetas:\\n\";\n",
    "print ($p->VERTICES_IN_FACETS);"
   ]
  },
  {
   "cell_type": "markdown",
   "metadata": {},
   "source": [
    "La propiedad `HASSE_DIAGRAM` devuelve un objeto con información sobre la retícula del polítopo. El diagrama de Hasse de la retícula puede dibujarse accediendo al método `VISUAL` de este objeto:"
   ]
  },
  {
   "cell_type": "code",
   "execution_count": null,
   "metadata": {},
   "outputs": [],
   "source": [
    "$p->HASSE_DIAGRAM->VISUAL;"
   ]
  },
  {
   "cell_type": "markdown",
   "metadata": {},
   "source": [
    "La propiedad `FACES` del objeto de la retícula nos devuelve una lista de todas las caras del polítopo, ordenadas por su dimensión y representadas por los conjuntos de sus vértices:"
   ]
  },
  {
   "cell_type": "code",
   "execution_count": null,
   "metadata": {},
   "outputs": [],
   "source": [
    "print $p->HASSE_DIAGRAM->FACES;"
   ]
  },
  {
   "cell_type": "markdown",
   "metadata": {},
   "source": [
    "Utilizando subíndices podemos acceder a cada una de las caras de la lista. Por ejemplo, para acceder a la tercera cara empleamos la expresión:"
   ]
  },
  {
   "cell_type": "code",
   "execution_count": null,
   "metadata": {},
   "outputs": [],
   "source": [
    "print $p->HASSE_DIAGRAM->FACES->[2];"
   ]
  },
  {
   "cell_type": "markdown",
   "metadata": {},
   "source": [
    "A menudo, queremos consultar únicamente las caras de una determinada dimensión. Para ello podemos usar el método `nodes_of_dim`, que nos devuelve los índices de las caras dentro del arreglo `FACES` que tienen una dimensión especificada:"
   ]
  },
  {
   "cell_type": "code",
   "execution_count": null,
   "metadata": {},
   "outputs": [],
   "source": [
    "print $p->HASSE_DIAGRAM->nodes_of_dim(2);\n",
    "print \"\\n---\\n\";\n",
    "print map { $p->HASSE_DIAGRAM->FACES->[$_] } @{$p->HASSE_DIAGRAM->nodes_of_dim(2)};"
   ]
  },
  {
   "cell_type": "markdown",
   "metadata": {},
   "source": [
    "Si solamente nos interesa la cantidad de nodos de una dimensión, podemos usar el método `size`:"
   ]
  },
  {
   "cell_type": "code",
   "execution_count": null,
   "metadata": {},
   "outputs": [],
   "source": [
    "print $p->HASSE_DIAGRAM->nodes_of_dim(1)->size;"
   ]
  },
  {
   "cell_type": "markdown",
   "metadata": {},
   "source": [
    "El siguiente código muestra la cantidad de caras de dimensión $k$, para $k \\in \\{-1, \\ldots, 4\\}$:"
   ]
  },
  {
   "cell_type": "code",
   "execution_count": null,
   "metadata": {},
   "outputs": [],
   "source": [
    "print map {$_, \": \", $p->HASSE_DIAGRAM->nodes_of_dim($_)->size,\"\\n\" } (-1..4);"
   ]
  },
  {
   "cell_type": "markdown",
   "metadata": {},
   "source": [
    "El método `INVERSE_RANK_MAP` nos permite consultar los índices de cada cara en el arreglo de caras de la retícula, agrupados según su rango:"
   ]
  },
  {
   "cell_type": "code",
   "execution_count": null,
   "metadata": {},
   "outputs": [],
   "source": [
    "print $p->HASSE_DIAGRAM->INVERSE_RANK_MAP;"
   ]
  },
  {
   "cell_type": "markdown",
   "metadata": {},
   "source": [
    "A veces, nos interesa extraer solamente una parte del diagrama de Hasse. Con la función `lower_hasse_diagram` extraemos los niveles inferiores, hasta un rango determinado (recordar que la dimensión de cada cara es igual a su rango menos 1)."
   ]
  },
  {
   "cell_type": "code",
   "execution_count": null,
   "metadata": {},
   "outputs": [],
   "source": [
    "$HD_partial = lower_hasse_diagram($p->VERTICES_IN_FACETS,2);\n",
    "$HD_partial->VISUAL;"
   ]
  },
  {
   "cell_type": "code",
   "execution_count": null,
   "metadata": {},
   "outputs": [],
   "source": [
    "print $HD_partial->FACES;"
   ]
  },
  {
   "cell_type": "markdown",
   "metadata": {},
   "source": [
    "Observar que es posible almacenar el objeto retícula asociado a la retícula de caras de un polítopo en una variable independiente:"
   ]
  },
  {
   "cell_type": "code",
   "execution_count": null,
   "metadata": {},
   "outputs": [],
   "source": [
    "$reticula = $p->HASSE_DIAGRAM;\n",
    "print $reticula->FACES;"
   ]
  },
  {
   "cell_type": "markdown",
   "metadata": {},
   "source": [
    "## Construcción de polítopos polares\n",
    "\n",
    "La función `polarize` construye el polítopo polar de un polítopo dado. "
   ]
  },
  {
   "cell_type": "code",
   "execution_count": null,
   "metadata": {},
   "outputs": [],
   "source": [
    "$q = polarize($p);\n",
    "$q->HASSE_DIAGRAM->VISUAL;"
   ]
  },
  {
   "cell_type": "markdown",
   "metadata": {},
   "source": [
    "Para visualizar el polítopo `$q`, es conveniente re-crearlo en una nueva variable a partir de sus vértices.\n",
    "Recordar que el polar $P^{\\triangle}$ de un polítopo $P$ es un polítopo, si $P$ contiene al cero como un punto interior. En nuestro caso, esta condición se cumple."
   ]
  },
  {
   "cell_type": "code",
   "execution_count": null,
   "metadata": {
    "scrolled": true
   },
   "outputs": [],
   "source": [
    "$q2 = new Polytope(POINTS=>$q->VERTICES);\n",
    "$q2->VISUAL;"
   ]
  },
  {
   "cell_type": "markdown",
   "metadata": {},
   "source": [
    "En caso de ser necesario, podemos hacer uso de la función `translate` antes de llamar a `polarize`. Esta función traslada un polítopo de acuerdo a un vector de desplazamiento. "
   ]
  },
  {
   "cell_type": "code",
   "execution_count": null,
   "metadata": {},
   "outputs": [],
   "source": [
    "$p = pyramid(cube(3));\n",
    "print $p->VERTICES;\n",
    "print \"\\n---\\n\";\n",
    "### la función polarize no retorna un polítopo, porque el cero no es punto interior de $p\n",
    "$q = polarize($p);\n",
    "$q2 = new Polytope(POINTS=>$q->VERTICES);\n",
    "print($q2->VERTICES);\n",
    "### la función VISUAL genera un error\n",
    "$q2->VISUAL;"
   ]
  },
  {
   "cell_type": "code",
   "execution_count": null,
   "metadata": {},
   "outputs": [],
   "source": [
    "$p = pyramid(cube(3));\n",
    "print $p->VERTICES;\n",
    "print \"\\n---\\n\";\n",
    "### empleando translate, movemos a $p para que cero sea punto interior \n",
    "$t = new Vector(0,0,0,-1/2);\n",
    "$p2 = translate($p,$t);\n",
    "print $p2->VERTICES;\n",
    "print \"\\n---\\n\";\n",
    "$q = polarize($p2);\n",
    "$q2 = new Polytope(POINTS=>$q->VERTICES);\n",
    "### ahora $q2 es un polítopo...\n",
    "print($q2->VERTICES);\n",
    "### ... y la función VISUAL se puede ejecutar\n",
    "$q2->VISUAL;"
   ]
  },
  {
   "cell_type": "markdown",
   "metadata": {},
   "source": [
    "## Ejercicio\n",
    "\n",
    "1. Definamos un polítopo `$h` como un prisma sobre un hexágono"
   ]
  },
  {
   "cell_type": "code",
   "execution_count": null,
   "metadata": {},
   "outputs": [],
   "source": [
    "$h = prism( n_gon( 6 ) );\n",
    "$h->VISUAL;"
   ]
  },
  {
   "cell_type": "markdown",
   "metadata": {},
   "source": [
    "2. Examinemos el número de caras (no triviales) de cada dimensión que tiene `$h`:"
   ]
  },
  {
   "cell_type": "code",
   "execution_count": null,
   "metadata": {},
   "outputs": [],
   "source": [
    "print map{ $_, \": \", $h->HASSE_DIAGRAM->nodes_of_dim( $_ )->size, \"\\n\" } (0..2);"
   ]
  },
  {
   "cell_type": "markdown",
   "metadata": {},
   "source": [
    "3. Revisemos la forma que tienen las caras de dimensión 2:"
   ]
  },
  {
   "cell_type": "code",
   "execution_count": null,
   "metadata": {},
   "outputs": [],
   "source": [
    "print map{$h->HASSE_DIAGRAM->FACES->[$_], \"\\n\"}@{$h->HASSE_DIAGRAM->nodes_of_dim(2)};\n"
   ]
  },
  {
   "cell_type": "markdown",
   "metadata": {},
   "source": [
    "4. Dibujemos el diagrama de Hasse de la retícula de caras de `$h`:"
   ]
  },
  {
   "cell_type": "code",
   "execution_count": null,
   "metadata": {},
   "outputs": [],
   "source": [
    "$h->HASSE_DIAGRAM->VISUAL;"
   ]
  },
  {
   "cell_type": "markdown",
   "metadata": {},
   "source": [
    "5. Definamos a `$m` como el polar de `$h`:"
   ]
  },
  {
   "cell_type": "code",
   "execution_count": null,
   "metadata": {},
   "outputs": [],
   "source": [
    "### verifiquemos primero que el cero es punto interior de $h\n",
    "print $h->VERTICES;"
   ]
  },
  {
   "cell_type": "code",
   "execution_count": null,
   "metadata": {},
   "outputs": [],
   "source": [
    "$m = polarize($h);"
   ]
  },
  {
   "cell_type": "markdown",
   "metadata": {},
   "source": [
    "6. Examinemos el número de caras (no tirviales) de cada dimensión que tiene `$m`:"
   ]
  },
  {
   "cell_type": "code",
   "execution_count": null,
   "metadata": {},
   "outputs": [],
   "source": [
    "print map{ $_, \": \", $m->HASSE_DIAGRAM->nodes_of_dim( $_ )->size, \"\\n\" } (0..2);"
   ]
  },
  {
   "cell_type": "markdown",
   "metadata": {},
   "source": [
    "7. Revisemos la forma que tienen las caras de dimensión 2 de `$m`:"
   ]
  },
  {
   "cell_type": "code",
   "execution_count": null,
   "metadata": {},
   "outputs": [],
   "source": [
    "print map{$m->HASSE_DIAGRAM->FACES->[$_], \"\\n\"}@{$m->HASSE_DIAGRAM->nodes_of_dim(2)};"
   ]
  },
  {
   "cell_type": "markdown",
   "metadata": {},
   "source": [
    "8. Dibujemos el diagrama de Hasse de la retícula de caras de `$m`:"
   ]
  },
  {
   "cell_type": "code",
   "execution_count": null,
   "metadata": {},
   "outputs": [],
   "source": [
    "$m->HASSE_DIAGRAM->VISUAL;"
   ]
  },
  {
   "cell_type": "markdown",
   "metadata": {},
   "source": [
    "9. Visualicemos el polítopo polar, re-creando una copia del mismo a partir de sus vértices. Observar que `$h` contiene al origen como punto interior, por lo que no es necesario trasladar el polítopo antes de llamar a `polarize`:"
   ]
  },
  {
   "cell_type": "code",
   "execution_count": null,
   "metadata": {},
   "outputs": [],
   "source": [
    "$m2=new Polytope(POINTS=>$m->VERTICES);\n",
    "$m2->VISUAL;"
   ]
  },
  {
   "cell_type": "code",
   "execution_count": null,
   "metadata": {},
   "outputs": [],
   "source": []
  }
 ],
 "metadata": {
  "kernelspec": {
   "display_name": "polymake-4.3",
   "language": "polymake",
   "name": "polymake"
  },
  "language_info": {
   "codemirror_mode": "perl",
   "file_extension": ".pl",
   "mimetype": "text/x-polymake",
   "name": "polymake"
  }
 },
 "nbformat": 4,
 "nbformat_minor": 4
}
