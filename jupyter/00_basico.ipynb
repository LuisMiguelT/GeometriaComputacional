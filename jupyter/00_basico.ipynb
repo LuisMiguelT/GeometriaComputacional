{
 "cells": [
  {
   "cell_type": "markdown",
   "metadata": {},
   "source": [
    "# Uso de polymake: Construcciones básicas\n",
    "\n",
    "## Acerca de polymake y perl\n",
    "\n",
    "Polymake es un software de código abierto para realizar investigación en geometría poliedral. Está disponible para algunos sistemas operativos de la familia linux y para el MacOS. También puede ser utilizado como una biblioteca para C++. Polymake puede ser obtenido en el siguiente enlace web:\n",
    "\n",
    "https://polymake.org/doku.php/start\n",
    "\n",
    "La sintaxis de polymake está basada en una variante (dialecto) del lenguaje de programación Perl. Aspectos básicos de la sintaxis pueden consultarse en la siguiente página web:\n",
    "\n",
    "https://polymake.org/doku.php/user_guide/tutorials/perl_intro"
   ]
  },
  {
   "cell_type": "markdown",
   "metadata": {},
   "source": [
    "## Definir polítipos comunes\n",
    "\n",
    "Se puede llamar a la función `simplex` para construir un **simplex** de una dimensión determinada. El siguiente código construye un simplex de dimensión 5 y lo asigna a la variable `$p`:"
   ]
  },
  {
   "cell_type": "code",
   "execution_count": 1,
   "metadata": {},
   "outputs": [],
   "source": [
    "$p = simplex(5);"
   ]
  },
  {
   "cell_type": "markdown",
   "metadata": {},
   "source": [
    "La variable `$p` contiene un objeto que representa al simplex. Como es usual, este objeto tiene varias propiedades asociadas. Las propiedades disponibles de un objeto en polymake puede consultarse empleando el método `list_properties`:"
   ]
  },
  {
   "cell_type": "code",
   "execution_count": 2,
   "metadata": {},
   "outputs": [
    {
     "data": {
      "text/plain": [
       "VERTICESCONE_AMBIENT_DIMCENTEREDCONE_DIMN_VERTICESSIMPLICIALITYBOUNDEDFEASIBLEPOINTED"
      ]
     },
     "execution_count": 2,
     "metadata": {},
     "output_type": "execute_result"
    }
   ],
   "source": [
    "print $p->list_properties;"
   ]
  },
  {
   "cell_type": "markdown",
   "metadata": {},
   "source": [
    "Para facilitar la lectura de este arreglo, puede usarse la función `join` de perl:"
   ]
  },
  {
   "cell_type": "code",
   "execution_count": 3,
   "metadata": {},
   "outputs": [
    {
     "data": {
      "text/plain": [
       "VERTICES, CONE_AMBIENT_DIM, CENTERED, CONE_DIM, N_VERTICES, SIMPLICIALITY, BOUNDED, FEASIBLE, POINTED"
      ]
     },
     "execution_count": 3,
     "metadata": {},
     "output_type": "execute_result"
    }
   ],
   "source": [
    "print join(\", \", $p->list_properties);"
   ]
  },
  {
   "cell_type": "markdown",
   "metadata": {},
   "source": [
    "Algunas propiedades toman valores de verdadero/falso y caracterizan al polítopo. En este ejemplo, el simplex de dimensión 5 es acotado (`BOUNDED`), no vacío (`FEASIBLE`) y con punta (`POINTED`), pero no está centrado (`CENTERED`):"
   ]
  },
  {
   "cell_type": "code",
   "execution_count": 4,
   "metadata": {},
   "outputs": [
    {
     "data": {
      "text/plain": [
       "BOUNDED: true\n",
       "FEASIBLE: true\n",
       "POINTED: true\n",
       "CENTERED: false\n"
      ]
     },
     "execution_count": 4,
     "metadata": {},
     "output_type": "execute_result"
    }
   ],
   "source": [
    "### es acotado?\n",
    "print \"BOUNDED: \";\n",
    "print $p->BOUNDED;\n",
    "print \"\\n\";\n",
    "### es no vacío?\n",
    "print \"FEASIBLE: \";\n",
    "print $p->FEASIBLE;\n",
    "print \"\\n\";\n",
    "### es polítopo con punta (tiene al menos un vértice)?\n",
    "print \"POINTED: \";\n",
    "print $p->POINTED;\n",
    "print \"\\n\";\n",
    "### tiene centro?\n",
    "print \"CENTERED: \";\n",
    "print $p->CENTERED;\n",
    "print \"\\n\";"
   ]
  },
  {
   "cell_type": "markdown",
   "metadata": {},
   "source": [
    "Otras propiedades contienen información específica del polítopo: Por ejemplo, la propiedad `VERTICES` retorna los vértices del polítopo, y la propiedad `N_VERTICES` retorna la cantidad de vértices:"
   ]
  },
  {
   "cell_type": "code",
   "execution_count": 5,
   "metadata": {},
   "outputs": [
    {
     "data": {
      "text/plain": [
       "(6) (0 1)\n",
       "(6) (0 1) (1 1)\n",
       "(6) (0 1) (2 1)\n",
       "(6) (0 1) (3 1)\n",
       "(6) (0 1) (4 1)\n",
       "(6) (0 1) (5 1)\n",
       "---\n",
       "6"
      ]
     },
     "execution_count": 5,
     "metadata": {},
     "output_type": "execute_result"
    }
   ],
   "source": [
    "### vértices del poliedro\n",
    "print $p->VERTICES;\n",
    "print(\"---\\n\");\n",
    "### número de vertices del poliedro\n",
    "print $p->N_VERTICES;"
   ]
  },
  {
   "cell_type": "markdown",
   "metadata": {},
   "source": [
    "En este ejemplo el listado de vértices está formateado por defecto como una matriz dispersa (*sparse matrix*). Cada fila empieza con una indicación de su dimensión, seguida de pares ordenados que indican la posición y el valor de los elementos no nulos. Para transformar esta salida a la representación usual de matrices densas, podemos usar la función `dense`:"
   ]
  },
  {
   "cell_type": "code",
   "execution_count": 6,
   "metadata": {},
   "outputs": [
    {
     "data": {
      "text/plain": [
       "1 0 0 0 0 0\n",
       "1 1 0 0 0 0\n",
       "1 0 1 0 0 0\n",
       "1 0 0 1 0 0\n",
       "1 0 0 0 1 0\n",
       "1 0 0 0 0 1\n"
      ]
     },
     "execution_count": 6,
     "metadata": {},
     "output_type": "execute_result"
    }
   ],
   "source": [
    "### vértices del poliedro, en formato de matriz densa\n",
    "print dense($p->VERTICES);"
   ]
  },
  {
   "cell_type": "markdown",
   "metadata": {},
   "source": [
    "Llamando al método `properties` pueden mostrarse los valores de todas las propiedades con un solo comando:"
   ]
  },
  {
   "cell_type": "code",
   "execution_count": 7,
   "metadata": {},
   "outputs": [
    {
     "data": {
      "text/plain": [
       "name: p\n",
       "type: Polytope<Rational>\n",
       "description: standard simplex of dimension 5\n",
       "\n",
       "\n",
       "BOUNDED\n",
       "true\n",
       "\n",
       "CENTERED\n",
       "false\n",
       "\n",
       "CONE_AMBIENT_DIM\n",
       "6\n",
       "\n",
       "CONE_DIM\n",
       "6\n",
       "\n",
       "FEASIBLE\n",
       "true\n",
       "\n",
       "N_VERTICES\n",
       "6\n",
       "\n",
       "POINTED\n",
       "true\n",
       "\n",
       "SIMPLICIALITY\n",
       "5\n",
       "\n",
       "VERTICES\n",
       "(6) (0 1)\n",
       "(6) (0 1) (1 1)\n",
       "(6) (0 1) (2 1)\n",
       "(6) (0 1) (3 1)\n",
       "(6) (0 1) (4 1)\n",
       "(6) (0 1) (5 1)\n",
       "\n"
      ]
     },
     "execution_count": 7,
     "metadata": {},
     "output_type": "execute_result"
    }
   ],
   "source": [
    "$p->properties;"
   ]
  },
  {
   "cell_type": "markdown",
   "metadata": {},
   "source": [
    "Dependiendo del polítopo, pueden haber propiedades que no se crean directamente al construir el objeto, sino que se calculan \"sobre la marcha\" cuando son consultadas. Por ejemplo, la propiedad `FACETS` retorna las desigualdades que definen las facetas del polítopo:"
   ]
  },
  {
   "cell_type": "code",
   "execution_count": 8,
   "metadata": {},
   "outputs": [
    {
     "data": {
      "text/plain": [
       "0 0 0 0 0 1\n",
       "0 1 0 0 0 0\n",
       "0 0 1 0 0 0\n",
       "0 0 0 1 0 0\n",
       "0 0 0 0 1 0\n",
       "1 -1 -1 -1 -1 -1\n"
      ]
     },
     "execution_count": 8,
     "metadata": {},
     "output_type": "execute_result"
    },
    {
     "data": {
      "text/html": [
       "<details><summary><pre style=\"display:inline\"><small>Click here for additional output</small></pre></summary>\n",
       "<pre>\n",
       "polymake: used package lrs\n",
       "  Implementation of the reverse search algorithm of Avis and Fukuda.\n",
       "  Copyright by David Avis.\n",
       "  http://cgm.cs.mcgill.ca/~avis/C/lrs.html\n",
       "\n",
       "</pre>\n",
       "</details>\n"
      ]
     },
     "metadata": {},
     "output_type": "display_data"
    }
   ],
   "source": [
    "print $p->FACETS;"
   ]
  },
  {
   "cell_type": "markdown",
   "metadata": {},
   "source": [
    "Cada desigualdad es del tipo `>=` y tiene la forma $a_0 + a_1 x_1 + \\cdots + a_n x_n >= 0$. Las desigualdades también pueden mostrarse en un formato más amigable empleando el comando `print_constraints`:"
   ]
  },
  {
   "cell_type": "code",
   "execution_count": 9,
   "metadata": {},
   "outputs": [
    {
     "data": {
      "text/plain": [
       "0: x5 >= 0\n",
       "1: x1 >= 0\n",
       "2: x2 >= 0\n",
       "3: x3 >= 0\n",
       "4: x4 >= 0\n",
       "5: -x1 - x2 - x3 - x4 - x5 >= -1\n",
       "\n"
      ]
     },
     "execution_count": 9,
     "metadata": {},
     "output_type": "execute_result"
    }
   ],
   "source": [
    "print_constraints $p->FACETS;"
   ]
  },
  {
   "cell_type": "markdown",
   "metadata": {},
   "source": [
    "Al calcular la propiedad `FACETS` se han calculado además otras propiedades adicionales:"
   ]
  },
  {
   "cell_type": "code",
   "execution_count": 10,
   "metadata": {},
   "outputs": [
    {
     "data": {
      "text/plain": [
       "name: p\n",
       "type: Polytope<Rational>\n",
       "description: standard simplex of dimension 5\n",
       "\n",
       "\n",
       "AFFINE_HULL\n",
       "\n",
       "\n",
       "BOUNDED\n",
       "true\n",
       "\n",
       "CENTERED\n",
       "false\n",
       "\n",
       "COMBINATORIAL_DIM\n",
       "5\n",
       "\n",
       "CONE_AMBIENT_DIM\n",
       "6\n",
       "\n",
       "CONE_DIM\n",
       "6\n",
       "\n",
       "FACETS\n",
       "0 0 0 0 0 1\n",
       "0 1 0 0 0 0\n",
       "0 0 1 0 0 0\n",
       "0 0 0 1 0 0\n",
       "0 0 0 0 1 0\n",
       "1 -1 -1 -1 -1 -1\n",
       "\n",
       "\n",
       "FEASIBLE\n",
       "true\n",
       "\n",
       "FULL_DIM\n",
       "true\n",
       "\n",
       "LINEALITY_DIM\n",
       "0\n",
       "\n",
       "LINEALITY_SPACE\n",
       "\n",
       "\n",
       "N_VERTICES\n",
       "6\n",
       "\n",
       "POINTED\n",
       "true\n",
       "\n",
       "SIMPLICIALITY\n",
       "5\n",
       "\n",
       "VERTICES\n",
       "(6) (0 1)\n",
       "(6) (0 1) (1 1)\n",
       "(6) (0 1) (2 1)\n",
       "(6) (0 1) (3 1)\n",
       "(6) (0 1) (4 1)\n",
       "(6) (0 1) (5 1)\n",
       "\n"
      ]
     },
     "execution_count": 10,
     "metadata": {},
     "output_type": "execute_result"
    }
   ],
   "source": [
    "$p->properties;"
   ]
  },
  {
   "cell_type": "markdown",
   "metadata": {},
   "source": [
    "La propiedad `VERTICES_IN_FACETS` indica qué vertices están contenidos en cada faceta del polítopo. Esta propiedad es importante, pues la misma determina la estructura combinatoria de un polítopo: "
   ]
  },
  {
   "cell_type": "code",
   "execution_count": 11,
   "metadata": {},
   "outputs": [
    {
     "data": {
      "text/plain": [
       "{0 1 2 3 4}\n",
       "{0 2 3 4 5}\n",
       "{0 1 3 4 5}\n",
       "{0 1 2 4 5}\n",
       "{0 1 2 3 5}\n",
       "{1 2 3 4 5}\n"
      ]
     },
     "execution_count": 11,
     "metadata": {},
     "output_type": "execute_result"
    }
   ],
   "source": [
    "print $p->VERTICES_IN_FACETS;"
   ]
  },
  {
   "cell_type": "markdown",
   "metadata": {},
   "source": [
    "Otra clase relevante de polítopos son los **hipercubos**. Pueden construirse empleando la función `cube`:"
   ]
  },
  {
   "cell_type": "code",
   "execution_count": 12,
   "metadata": {},
   "outputs": [
    {
     "data": {
      "text/plain": [
       "name: c\n",
       "type: Polytope<Rational>\n",
       "description: cube of dimension 6\n",
       "\n",
       "\n",
       "AFFINE_HULL\n",
       "\n",
       "\n",
       "BOUNDED\n",
       "true\n",
       "\n",
       "CONE_AMBIENT_DIM\n",
       "7\n",
       "\n",
       "CONE_DIM\n",
       "7\n",
       "\n",
       "FACETS\n",
       "(7) (0 1) (1 1)\n",
       "(7) (0 1) (1 -1)\n",
       "(7) (0 1) (2 1)\n",
       "(7) (0 1) (2 -1)\n",
       "(7) (0 1) (3 1)\n",
       "(7) (0 1) (3 -1)\n",
       "(7) (0 1) (4 1)\n",
       "(7) (0 1) (4 -1)\n",
       "(7) (0 1) (5 1)\n",
       "(7) (0 1) (5 -1)\n",
       "(7) (0 1) (6 1)\n",
       "(7) (0 1) (6 -1)\n",
       "\n",
       "\n",
       "VERTICES_IN_FACETS\n",
       "{0 2 4 6 8 10 12 14 16 18 20 22 24 26 28 30 32 34 36 38 40 42 44 46 48 50 52 54 56 58 60 62}\n",
       "{1 3 5 7 9 11 13 15 17 19 21 23 25 27 29 31 33 35 37 39 41 43 45 47 49 51 53 55 57 59 61 63}\n",
       "{0 1 4 5 8 9 12 13 16 17 20 21 24 25 28 29 32 33 36 37 40 41 44 45 48 49 52 53 56 57 60 61}\n",
       "{2 3 6 7 10 11 14 15 18 19 22 23 26 27 30 31 34 35 38 39 42 43 46 47 50 51 54 55 58 59 62 63}\n",
       "{0 1 2 3 8 9 10 11 16 17 18 19 24 25 26 27 32 33 34 35 40 41 42 43 48 49 50 51 56 57 58 59}\n",
       "{4 5 6 7 12 13 14 15 20 21 22 23 28 29 30 31 36 37 38 39 44 45 46 47 52 53 54 55 60 61 62 63}\n",
       "{0 1 2 3 4 5 6 7 16 17 18 19 20 21 22 23 32 33 34 35 36 37 38 39 48 49 50 51 52 53 54 55}\n",
       "{8 9 10 11 12 13 14 15 24 25 26 27 28 29 30 31 40 41 42 43 44 45 46 47 56 57 58 59 60 61 62 63}\n",
       "{0 1 2 3 4 5 6 7 8 9 10 11 12 13 14 15 32 33 34 35 36 37 38 39 40 41 42 43 44 45 46 47}\n",
       "{16 17 18 19 20 21 22 23 24 25 26 27 28 29 30 31 48 49 50 51 52 53 54 55 56 57 58 59 60 61 62 63}\n",
       "{0 1 2 3 4 5 6 7 8 9 10 11 12 13 14 15 16 17 18 19 20 21 22 23 24 25 26 27 28 29 30 31}\n",
       "{32 33 34 35 36 37 38 39 40 41 42 43 44 45 46 47 48 49 50 51 52 53 54 55 56 57 58 59 60 61 62 63}\n",
       "\n"
      ]
     },
     "execution_count": 12,
     "metadata": {},
     "output_type": "execute_result"
    }
   ],
   "source": [
    "$c = cube(6);\n",
    "$c->properties;"
   ]
  },
  {
   "cell_type": "markdown",
   "metadata": {},
   "source": [
    "Notar que, por defecto, el cubo se construye en la \"forma H\", definido a partir de un sistema de desigualdades:"
   ]
  },
  {
   "cell_type": "code",
   "execution_count": 13,
   "metadata": {},
   "outputs": [
    {
     "data": {
      "text/plain": [
       "internal error: missing source file /usr/share/polymake/apps/common/src/print_constraints.cc where the function print_constraints was initially defined\n"
      ]
     },
     "execution_count": 13,
     "metadata": {},
     "output_type": "execute_result"
    }
   ],
   "source": [
    "print_constraints($c->FACETS);"
   ]
  },
  {
   "cell_type": "markdown",
   "metadata": {},
   "source": [
    "Al consultar alguna propiedad que requiera de la \"forma V\", se invocan automáticamente los algoritmos de transformación correspondientes. Para polítopos grandes, esta operación puede ser muy costosa computacionalmente:"
   ]
  },
  {
   "cell_type": "code",
   "execution_count": null,
   "metadata": {},
   "outputs": [],
   "source": [
    "print $c->VERTICES;\n",
    "print(\"---\\n\");\n",
    "print $c->N_VERTICES;"
   ]
  },
  {
   "cell_type": "markdown",
   "metadata": {},
   "source": [
    "Los **polítopos de cruz** pueden construirse empleando la función `cross`:"
   ]
  },
  {
   "cell_type": "code",
   "execution_count": null,
   "metadata": {},
   "outputs": [],
   "source": [
    "$r= cross(5);\n",
    "$r->properties;"
   ]
  },
  {
   "cell_type": "markdown",
   "metadata": {},
   "source": [
    "Por defecto, los polítopos de cruz se crean en la forma V."
   ]
  },
  {
   "cell_type": "code",
   "execution_count": null,
   "metadata": {},
   "outputs": [],
   "source": [
    "print dense($r->VERTICES);"
   ]
  },
  {
   "cell_type": "markdown",
   "metadata": {},
   "source": [
    "Al consultar cualquier propiedad relativa a las facetas, el polítopo es automáticamente transformado a la forma H:"
   ]
  },
  {
   "cell_type": "code",
   "execution_count": null,
   "metadata": {},
   "outputs": [],
   "source": [
    "print_constraints($r->FACETS);"
   ]
  },
  {
   "cell_type": "markdown",
   "metadata": {},
   "source": [
    "El **polítopo cíclico** de dimensión $d$ con $n$ vértices puede construirse llamando a la función `cyclic(d, n)`. Recordar que debe cumplirse $n > d$:"
   ]
  },
  {
   "cell_type": "code",
   "execution_count": null,
   "metadata": {},
   "outputs": [],
   "source": [
    "$cy = cyclic(3, 6);\n",
    "$cy->properties;"
   ]
  },
  {
   "cell_type": "markdown",
   "metadata": {},
   "source": [
    "Por defecto, el polítopo cíclo se construye en la forma V. Al consultar la propiedad `VERTICES_IN_FACETS` se calcula automáticamente la forma H:"
   ]
  },
  {
   "cell_type": "code",
   "execution_count": null,
   "metadata": {},
   "outputs": [],
   "source": [
    "print $cy->VERTICES_IN_FACETS;"
   ]
  },
  {
   "cell_type": "markdown",
   "metadata": {},
   "source": [
    "Cuando un polítopo tiene dimensión 3, llamando a la propiedad `VISUAL` puede producirse una representación gráfica del mismo:"
   ]
  },
  {
   "cell_type": "code",
   "execution_count": null,
   "metadata": {},
   "outputs": [],
   "source": [
    "$c = cube(3);\n",
    "$c->VISUAL;"
   ]
  },
  {
   "cell_type": "markdown",
   "metadata": {},
   "source": [
    "La propiedad `SCHLEGEL` construye un diagrama del Schlegel de un polítopo: "
   ]
  },
  {
   "cell_type": "code",
   "execution_count": null,
   "metadata": {},
   "outputs": [],
   "source": [
    "$c->SCHLEGEL;"
   ]
  },
  {
   "cell_type": "markdown",
   "metadata": {},
   "source": [
    "Los diagramas de Schlegel son muy útiles para estudiar las propiedades combinatorias de polítopos de dimensión 4:"
   ]
  },
  {
   "cell_type": "code",
   "execution_count": null,
   "metadata": {},
   "outputs": [],
   "source": [
    "$s = cross(4);\n",
    "$s->SCHLEGEL;"
   ]
  },
  {
   "cell_type": "markdown",
   "metadata": {},
   "source": [
    "## Definir un poliedro en la forma $V$\n",
    "\n",
    "Podemos crear un poliedro a partir de la envolvente convexa de un conjunto finito de puntos. Por ejemplo, definiremos a `$p` como la envolvente convexa de los puntos $(-1,-1), (-1,1), (1,-1), (1,1), (0,0)$:"
   ]
  },
  {
   "cell_type": "code",
   "execution_count": null,
   "metadata": {},
   "outputs": [],
   "source": [
    "$p=new Polytope(POINTS=>[[1,-1,-1],[1,-1,1],[1,1,-1],[1,1,1],[1,0,0]]);"
   ]
  },
  {
   "cell_type": "markdown",
   "metadata": {},
   "source": [
    "Notar que es necesario añadir una componente igual a 1 al inicio de cada punto, porque polymake utiliza coordenadas homogéneas para representar los objetos.\n",
    "\n",
    "Una vez que el poliedro ha sido creado, podemos consultar sus vértices. Notar que el punto $(0,0)$ no es un vértice de `$p$`, pues puede expresarse como combinación convexa de los otros puntos."
   ]
  },
  {
   "cell_type": "code",
   "execution_count": null,
   "metadata": {},
   "outputs": [],
   "source": [
    "print $p->POINTS;\n",
    "print \"----\\n\";\n",
    "print $p->VERTICES;"
   ]
  },
  {
   "cell_type": "markdown",
   "metadata": {},
   "source": [
    "Invocando al método `DIM` se puede consultar la dimensión del poliedro:"
   ]
  },
  {
   "cell_type": "code",
   "execution_count": null,
   "metadata": {},
   "outputs": [],
   "source": [
    "print $p->DIM;"
   ]
  },
  {
   "cell_type": "markdown",
   "metadata": {},
   "source": [
    "Para visualizar una representación gráfica de un polítopo, puede invocarse al método `VISUAL`:"
   ]
  },
  {
   "cell_type": "code",
   "execution_count": null,
   "metadata": {
    "scrolled": true
   },
   "outputs": [],
   "source": [
    "$p->VISUAL;"
   ]
  },
  {
   "cell_type": "markdown",
   "metadata": {},
   "source": [
    "Para obtener información acerca de las desigualdades que definen las facetas de `$p` es necesario primero especificar un algoritmo a utilizar para la transformación entre representaciones $V$ y $H$. Especificaremos el algoritmo de búsqueda en reversa [lrs)](http://cgm.cs.mcgill.ca/~avis/C/lrs.html):"
   ]
  },
  {
   "cell_type": "code",
   "execution_count": null,
   "metadata": {},
   "outputs": [],
   "source": [
    "prefer \"lrs\";"
   ]
  },
  {
   "cell_type": "markdown",
   "metadata": {},
   "source": [
    "Ahora podemos consultar las desigualdades que definen las facetas de `$p`:"
   ]
  },
  {
   "cell_type": "code",
   "execution_count": null,
   "metadata": {},
   "outputs": [],
   "source": [
    "print $p->FACETS;"
   ]
  },
  {
   "cell_type": "markdown",
   "metadata": {},
   "source": [
    "Cada desigualdad es del tipo `>=` y tiene la forma $a_0 + a_1 x_1 + \\cdots + a_n x_n >= 0$. Las desigualdades también pueden mostrarse en un formato más amigable empleando el comando `print_constraints`:"
   ]
  },
  {
   "cell_type": "code",
   "execution_count": null,
   "metadata": {},
   "outputs": [],
   "source": [
    "print_constraints($p->FACETS);"
   ]
  },
  {
   "cell_type": "markdown",
   "metadata": {},
   "source": [
    "Para consultar cómo están ubicados los vértices en las facetas de `$p`, utilizamos el método `VERTICES_IN_FACETS`:"
   ]
  },
  {
   "cell_type": "code",
   "execution_count": null,
   "metadata": {},
   "outputs": [],
   "source": [
    "print $p->VERTICES_IN_FACETS;"
   ]
  },
  {
   "cell_type": "markdown",
   "metadata": {},
   "source": [
    "### Ejemplo 2: Permutaedro $\\Pi_{3}$\n",
    "\n",
    "Construyamos el permutaedro $\\Pi_{3} \\subset \\mathbb{R}^4$. Este polítopo está generado por todos los puntos cuyas coordenadas son permutaciones del conjunto $\\{1, 2, 3, 4 \\}$: "
   ]
  },
  {
   "cell_type": "code",
   "execution_count": null,
   "metadata": {},
   "outputs": [],
   "source": [
    "$Pi3 = new Polytope(POINTS=>[[1,1,2,3,4],[1,1,2,4,3],[1,1,3,2,4],[1,1,3,4,2],[1,1,4,2,3],[1,1,4,3,2],\n",
    "                             [1,2,1,3,4],[1,2,1,4,3],[1,2,3,1,4],[1,2,3,4,1],[1,2,4,1,3],[1,2,4,3,1],\n",
    "                             [1,3,1,2,4],[1,3,1,4,2],[1,3,2,1,4],[1,3,2,4,1],[1,3,4,1,2],[1,3,4,2,1],\n",
    "                             [1,4,1,2,3],[1,4,1,3,2],[1,4,2,1,3],[1,4,2,3,1],[1,4,3,1,2],[1,4,3,2,1]]);"
   ]
  },
  {
   "cell_type": "markdown",
   "metadata": {},
   "source": [
    "Podemos verificar que todos los puntos empleandos en la combinación convexa son vértices de $\\Pi_3$:"
   ]
  },
  {
   "cell_type": "code",
   "execution_count": null,
   "metadata": {},
   "outputs": [],
   "source": [
    "print $Pi3->VERTICES;"
   ]
  },
  {
   "cell_type": "markdown",
   "metadata": {},
   "source": [
    "Este polítopo tiene dimensión 3:"
   ]
  },
  {
   "cell_type": "code",
   "execution_count": null,
   "metadata": {},
   "outputs": [],
   "source": [
    "print($Pi3->DIM);"
   ]
  },
  {
   "cell_type": "markdown",
   "metadata": {},
   "source": [
    "Calculemos ahora las desigualdades que definen las facetas de $\\Pi_3$:"
   ]
  },
  {
   "cell_type": "code",
   "execution_count": null,
   "metadata": {},
   "outputs": [],
   "source": [
    "print_constraints($Pi3->FACETS);"
   ]
  },
  {
   "cell_type": "markdown",
   "metadata": {},
   "source": [
    "Al consultar la distribución de los vértices en las facetas, comprobamos que las facetas de $\\Pi_3$ son cuadrados y hexágonos:"
   ]
  },
  {
   "cell_type": "code",
   "execution_count": null,
   "metadata": {},
   "outputs": [],
   "source": [
    "print($Pi3->VERTICES_IN_FACETS);"
   ]
  },
  {
   "cell_type": "markdown",
   "metadata": {},
   "source": [
    "No podemos graficar directamente $\\Pi_3$ con el método `VISUAL`, porque es un objeto de dimensión 3 en $\\mathbb{R}^4$. Pero podemos tomar una proyección del mismo en $\\mathbb{R}^3$, por ejemplo, eliminando la última componente de cada vértice."
   ]
  },
  {
   "cell_type": "code",
   "execution_count": null,
   "metadata": {},
   "outputs": [],
   "source": [
    "$q = new Polytope(POINTS=>[[1,1,2,3],[1,1,2,4],[1,1,3,2],[1,1,3,4],[1,1,4,2],[1,1,4,3],\n",
    "                             [1,2,1,3],[1,2,1,4],[1,2,3,1],[1,2,3,4],[1,2,4,1],[1,2,4,3],\n",
    "                             [1,3,1,2],[1,3,1,4],[1,3,2,1],[1,3,2,4],[1,3,4,1],[1,3,4,2],\n",
    "                             [1,4,1,2],[1,4,1,3],[1,4,2,1],[1,4,2,3],[1,4,3,1],[1,4,3,2]]);\n",
    "$q->VISUAL;"
   ]
  },
  {
   "cell_type": "markdown",
   "metadata": {},
   "source": [
    "## Definir un polítopo en la forma $H$\n",
    "\n",
    "Puede especificarse un polítopo a través de un sistema de desigualdades empleando el método `INEQUALITIES`. El vector $[a_0, a_1, \\ldots, a_n]$ representa a la desigualdad $a_0 + a_1 x_1 + \\cdots + a_n x_n \\geq 0$."
   ]
  },
  {
   "cell_type": "code",
   "execution_count": null,
   "metadata": {},
   "outputs": [],
   "source": [
    "$p = new Polytope(INEQUALITIES=>[[1,1,0],[1,0,1],[1,-1,0],[1,0,-1],[2,1,1]]);"
   ]
  },
  {
   "cell_type": "markdown",
   "metadata": {},
   "source": [
    "Podemos mostrar estas desigualdades en un formato amigable empleando la función `print_constraints`:"
   ]
  },
  {
   "cell_type": "code",
   "execution_count": null,
   "metadata": {},
   "outputs": [],
   "source": [
    "print_constraints($p->INEQUALITIES);"
   ]
  },
  {
   "cell_type": "markdown",
   "metadata": {},
   "source": [
    "Notar que algunas desigualdades son redundantes. Para mostrar solamente aquellas que definen facetas, llamamos al método `FACETS`:"
   ]
  },
  {
   "cell_type": "code",
   "execution_count": null,
   "metadata": {},
   "outputs": [],
   "source": [
    "print_constraints($p->FACETS);"
   ]
  },
  {
   "cell_type": "markdown",
   "metadata": {},
   "source": [
    "Mostramos ahora la dimensión del polítopo empleando el método `DIM`:"
   ]
  },
  {
   "cell_type": "code",
   "execution_count": null,
   "metadata": {},
   "outputs": [],
   "source": [
    "print($p->DIM);"
   ]
  },
  {
   "cell_type": "markdown",
   "metadata": {},
   "source": [
    "Con el método `VISUAL` podemos dibujar `$p`:"
   ]
  },
  {
   "cell_type": "code",
   "execution_count": null,
   "metadata": {},
   "outputs": [],
   "source": [
    "$p->VISUAL;"
   ]
  },
  {
   "cell_type": "markdown",
   "metadata": {},
   "source": [
    "Podemos consultar los vértices de `$p` con el método `VERTICES`. En este caso, `polymake` ejecutará el algoritmo que se haya seleccionado para la transformación entre representaciones:"
   ]
  },
  {
   "cell_type": "code",
   "execution_count": null,
   "metadata": {},
   "outputs": [],
   "source": [
    "print($p->VERTICES);"
   ]
  },
  {
   "cell_type": "markdown",
   "metadata": {},
   "source": [
    "Llamando al método `VERTICES_IN_FACETS` mostramos la distribución de los vértices de `$p` en sus facetas:"
   ]
  },
  {
   "cell_type": "code",
   "execution_count": null,
   "metadata": {},
   "outputs": [],
   "source": [
    "print($p->VERTICES_IN_FACETS);"
   ]
  },
  {
   "cell_type": "markdown",
   "metadata": {},
   "source": [
    "### Ejemplo 4: Hipercubo $C_4$\n",
    "\n",
    "Conocemos que el hipercubo de dimensión cuatro $C_4$ puede definirse como la solución del sistema de desigualdades\n",
    "$$\n",
    "C_4 := \\left\\{ x \\in \\mathbb{R}^4 : -1 \\leq x_i \\leq 1, \\forall i \\in [4] \\right\\}.\n",
    "$$\n",
    "\n",
    "Especificamos estas desigualdades utilizando el método `INEQUALITIES`:"
   ]
  },
  {
   "cell_type": "code",
   "execution_count": null,
   "metadata": {},
   "outputs": [],
   "source": [
    "$c4 = new Polytope(INEQUALITIES=>[[1,1,0,0,0],[1,0,1,0,0],[1,0,0,1,0],[1,0,0,0,1],\n",
    "                                  [1,-1,0,0,0],[1,0,-1,0,0],[1,0,0,-1,0],[1,0,0,0,-1]]);"
   ]
  },
  {
   "cell_type": "markdown",
   "metadata": {},
   "source": [
    "Podemos constatar que todas las desigualdades definen facetas:"
   ]
  },
  {
   "cell_type": "code",
   "execution_count": null,
   "metadata": {},
   "outputs": [],
   "source": [
    "print_constraints($c4->FACETS);"
   ]
  },
  {
   "cell_type": "markdown",
   "metadata": {},
   "source": [
    "Escribimos la dimensión del hipercubo:"
   ]
  },
  {
   "cell_type": "code",
   "execution_count": null,
   "metadata": {},
   "outputs": [],
   "source": [
    "print($c4->DIM);"
   ]
  },
  {
   "cell_type": "markdown",
   "metadata": {},
   "source": [
    "Al llamar al método `VISUAL` de un polítopo de dimensión 4, `polymake` dibuja su representación por medio de un diagrama de Schlegel:"
   ]
  },
  {
   "cell_type": "code",
   "execution_count": null,
   "metadata": {},
   "outputs": [],
   "source": [
    "$c4->VISUAL;"
   ]
  },
  {
   "cell_type": "markdown",
   "metadata": {},
   "source": [
    "Verifiquemos que los vértices del hipercubo corresponden a todos los elementos del conjunto $\\{-1,1\\}^4$:"
   ]
  },
  {
   "cell_type": "code",
   "execution_count": null,
   "metadata": {},
   "outputs": [],
   "source": [
    "print($c4->VERTICES);"
   ]
  },
  {
   "cell_type": "markdown",
   "metadata": {},
   "source": [
    "Finalmente, examinemos la distribución de los vértices de `$c4` en sus facetas:"
   ]
  },
  {
   "cell_type": "code",
   "execution_count": null,
   "metadata": {},
   "outputs": [],
   "source": [
    "print($c4->VERTICES_IN_FACETS);"
   ]
  },
  {
   "cell_type": "code",
   "execution_count": null,
   "metadata": {},
   "outputs": [],
   "source": []
  }
 ],
 "metadata": {
  "kernelspec": {
   "display_name": "polymake",
   "language": "polymake",
   "name": "polymake"
  },
  "language_info": {
   "codemirror_mode": "perl",
   "file_extension": ".pl",
   "mimetype": "text/x-polymake",
   "name": "polymake"
  }
 },
 "nbformat": 4,
 "nbformat_minor": 4
}
