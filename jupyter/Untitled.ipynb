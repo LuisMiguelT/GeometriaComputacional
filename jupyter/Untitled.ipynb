{
 "cells": [
  {
   "cell_type": "code",
   "execution_count": 5,
   "id": "1d0cf974",
   "metadata": {},
   "outputs": [
    {
     "data": {
      "text/plain": [
       "0: x6 >= 0\n",
       "1: x1 >= 0\n",
       "2: x2 >= 0\n",
       "3: x3 >= 0\n",
       "4: x4 >= 0\n",
       "5: x5 >= 0\n",
       "6: -x1 - x2 - x3 - x4 - x5 - x6 >= -1\n",
       "\n"
      ]
     },
     "execution_count": 5,
     "metadata": {},
     "output_type": "execute_result"
    }
   ],
   "source": [
    "$c = simplex(6);\n",
    "print_constraints($c->FACETS);"
   ]
  },
  {
   "cell_type": "code",
   "execution_count": null,
   "id": "4d07be0f",
   "metadata": {},
   "outputs": [],
   "source": []
  }
 ],
 "metadata": {
  "kernelspec": {
   "display_name": "polymake",
   "language": "polymake",
   "name": "polymake"
  },
  "language_info": {
   "codemirror_mode": "perl",
   "file_extension": ".pl",
   "mimetype": "text/x-polymake",
   "name": "polymake"
  }
 },
 "nbformat": 4,
 "nbformat_minor": 5
}
