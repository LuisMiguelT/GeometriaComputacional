{
 "cells": [
  {
   "cell_type": "markdown",
   "metadata": {},
   "source": [
    "# Uso de polymake: Trabajando con poliedros\n",
    "\n",
    "## Representación de $\\mathcal{V}$-poliedros\n",
    "\n",
    "Internamente, `polymake` representa a los poliedros a través de sus conos de homogeneización. Conocemos que si $P = \\mathrm{conv}(V) + \\mathrm{cone}(Y) \\subset \\mathbb{R}^d$, entonces el cono de homogeneización de $P$ está dado por:\n",
    "$$\n",
    "\\mathrm{homog}(P):= \\mathrm{cone}\\left(\n",
    "\\begin{array}{cc}\n",
    "\\mathbf{1}^T & \\mathbf{0}^T\\\\\n",
    "V & Y\n",
    "\\end{array}\n",
    "\\right) \\subset \\mathbb{R}^{d+1}.\n",
    "$$\n",
    "\n",
    "Los vectores (o puntos) en $\\mathbb{R}^{d+1}$ para generar $\\mathrm{homog}(P)$ se especifican por medio de la propiedad `POINTS`."
   ]
  },
  {
   "cell_type": "markdown",
   "metadata": {},
   "source": [
    "Por ejemplo, definimos a continuación `$p` como la envolvente convexa del conjunto $\\{ (-1,-1), (-1,1), (1,-1), (1,1), (0,0) \\}$:"
   ]
  },
  {
   "cell_type": "code",
   "execution_count": null,
   "metadata": {},
   "outputs": [],
   "source": [
    "$p=new Polytope(POINTS=>[[1,-1,-1],[1,-1,1],[1,1,-1],[1,1,1],[1,0,0]]);\n",
    "### mostrar las propiedades de $p\n",
    "$p->properties;"
   ]
  },
  {
   "cell_type": "markdown",
   "metadata": {},
   "source": [
    "Podemos obtener una representación gráfica de `$p` llamando al método `VISUAL`."
   ]
  },
  {
   "cell_type": "code",
   "execution_count": null,
   "metadata": {},
   "outputs": [],
   "source": [
    "### mostrar una representación gráfica de $p\n",
    "$p->VISUAL;"
   ]
  },
  {
   "cell_type": "markdown",
   "metadata": {},
   "source": [
    "Consultando la propiedad `VERTICES` podemos determinar cuáles son los puntos no redundantes requeridos para definir el polítopo (es decir, sus vértices):"
   ]
  },
  {
   "cell_type": "code",
   "execution_count": null,
   "metadata": {},
   "outputs": [],
   "source": [
    "print $p->VERTICES;"
   ]
  },
  {
   "cell_type": "markdown",
   "metadata": {},
   "source": [
    "La propiedad `DIM` nos devuelve la dimensión del polítopo:"
   ]
  },
  {
   "cell_type": "code",
   "execution_count": null,
   "metadata": {},
   "outputs": [],
   "source": [
    "print $p->DIM;"
   ]
  },
  {
   "cell_type": "markdown",
   "metadata": {},
   "source": [
    "La propiedad `FACETS` nos devuelve las desigualdades que definen las facetas del polítopo. Al consultarla, `polymake` invoca internamente un algoritmo tipo Fourier-Motzkin para transformar la representación $\\mathcal{V}$ en la representación $\\mathcal{H}$ del polítopo, a partir del cálculo de la envolvente convexa. Con la instrucción `prefer` podemos requerir específicamente que se utilice alguno de los métodos disponibles. Por ejemplo, en el siguiente fragmento de código se emplea el [algoritmo de búsqueda en reversa revisado `lrs`](http://cgm.cs.mcgill.ca/~avis/C/lrs.html) desarrollado por David Avis:"
   ]
  },
  {
   "cell_type": "code",
   "execution_count": null,
   "metadata": {},
   "outputs": [],
   "source": [
    "prefer \"lrs\";\n",
    "print_constraints($p->FACETS);"
   ]
  },
  {
   "cell_type": "markdown",
   "metadata": {},
   "source": [
    "Con la propiedad `VERTICES_IN_FACETS` consultamos la incidencia entre vértices y facetas:"
   ]
  },
  {
   "cell_type": "code",
   "execution_count": null,
   "metadata": {},
   "outputs": [],
   "source": [
    "print ($p->VERTICES_IN_FACETS);"
   ]
  },
  {
   "cell_type": "markdown",
   "metadata": {},
   "source": [
    "Agregaremos ahora una parte cónica al poliedro anterior. Según la representación del cono de homogeinización, esto se consigue añadiendo un punto (o vector) con la primera coordenada igual a cero al especificar la propiedad `POINTS`.\n",
    "\n",
    "En el ejemplo siguiente definimos a `$q` como $\\mathrm{conv}(\\{(-1,-1), (-1,1), (1,-1), (1,1), (0,0)\\}) + \\mathrm{cone}(\\{(1,1)\\})$"
   ]
  },
  {
   "cell_type": "code",
   "execution_count": null,
   "metadata": {},
   "outputs": [],
   "source": [
    "$q = new Polytope(POINTS=>[[1,-1,-1],[1,-1,1],[1,1,-1],[1,1,1],[1,0,0],[0,1,1]]);\n",
    "$q -> VISUAL;"
   ]
  },
  {
   "cell_type": "markdown",
   "metadata": {},
   "source": [
    "Al consultar la propiedad `VERTICES` podemos ver que el nuevo poliedro tiene tres vértices (puntos no redundantes en la combinación convexa) y un rayo (vector no redundante en la combinación cónica). Los vértices tienen la primera coordenada igual a 1, los rayos tienen la primera coordenada igual a 0:"
   ]
  },
  {
   "cell_type": "code",
   "execution_count": null,
   "metadata": {},
   "outputs": [],
   "source": [
    "print($q->VERTICES);"
   ]
  },
  {
   "cell_type": "markdown",
   "metadata": {},
   "source": [
    "Podemos consultar también las desigualdades que definen las facetas de `$q`, así como la incidencia de facetas en vértices:"
   ]
  },
  {
   "cell_type": "code",
   "execution_count": null,
   "metadata": {},
   "outputs": [],
   "source": [
    "### mostrar facetas de $q\n",
    "print_constraints($q->FACETS);\n",
    "print(\"---\\n\");\n",
    "\n",
    "### mostrar incidencia de vértices en facetas\n",
    "print ($q->VERTICES_IN_FACETS);"
   ]
  },
  {
   "cell_type": "markdown",
   "metadata": {},
   "source": [
    "## Representación de $\\mathcal{H}$-poliedros\n",
    "\n",
    "Un $\\mathcal{H}$-poliedro de la forma $P:= \\{ x \\in \\mathbb{R}^d \\, : \\, Ax \\leq b\\}$ se representa a través se su cono de homogeinización, dado por el sistema de desigualdades:\n",
    "$$\n",
    "\\left(\n",
    "\\begin{array}{cc}\n",
    "1 & \\mathbf{0}^T \\\\\n",
    "b & -A\n",
    "\\end{array}\n",
    "\\right)\n",
    "\\left(\n",
    "\\begin{array}{c}\n",
    "x_0 \\\\ x\n",
    "\\end{array}\n",
    "\\right)\n",
    "\\geq \\mathbf{0}.\n",
    "$$\n",
    "\n",
    "Las filas de la matriz de coeficientes se especifican por medio de la propiedad `INEQUALITIES`; no es necesario incluir la primera fila, la cual es añadida automáticamente por polymake.\n",
    "\n",
    "Por ejemplo, el siguiente fragmento de código asigna a la variable `$r` el poliedro en $\\mathbb{R}^2$ definido por el sistema de desigualdades:\n",
    "$$\n",
    "\\left\\{\n",
    "\\begin{aligned}\n",
    "& x_1 + x_2 \\leq 4 \\\\\n",
    "& x_1 + 2x_2 \\leq 7 \\\\\n",
    "& 0 \\leq x_1 \\leq 2 \\\\\n",
    "& 0 \\leq x_2 \\leq 3 \\\\\n",
    "\\end{aligned}\n",
    "\\right.\n",
    "$$"
   ]
  },
  {
   "cell_type": "code",
   "execution_count": null,
   "metadata": {
    "scrolled": true
   },
   "outputs": [],
   "source": [
    "$r = new Polytope(INEQUALITIES=>[[4,-1,-1],[7,-1,-2],[2,-1,0],[3,0,-1],[0,1,0], [0,0,1]]);\n",
    "### mostrar las propiedades de $r\n",
    "$r->properties;\n"
   ]
  },
  {
   "cell_type": "markdown",
   "metadata": {},
   "source": [
    "Notar que polymake añadió automáticamente la fila `[1, 0, 0]`, correspondiente a la desigualdad $x_0 \\geq 0$. \n",
    "\n",
    "La función `print_constraints` escribe el sistema de desigualdades en un formato más amigable para el usuario. Notar que esta función deshace además la homogeneización. En particular, la nonegatividad de $x_0$ se transforma en la desigualdad trivial $0 \\geq -1$."
   ]
  },
  {
   "cell_type": "code",
   "execution_count": null,
   "metadata": {},
   "outputs": [],
   "source": [
    "print_constraints($r->INEQUALITIES);"
   ]
  },
  {
   "cell_type": "markdown",
   "metadata": {},
   "source": [
    "Consultando la propiedad `FACETS` obtenemos las desigualdades no redundantes del sistema. En el ejemplo anterior, la segunda desigualdad no es listada, porque la misma se obtiene como suma de la primera y la cuarta desigualdades. De igual forma, la desigualdad trivial $0 \\geq -1$ es eliminada del sistema."
   ]
  },
  {
   "cell_type": "code",
   "execution_count": null,
   "metadata": {},
   "outputs": [],
   "source": [
    "print_constraints($r->FACETS);"
   ]
  },
  {
   "cell_type": "markdown",
   "metadata": {},
   "source": [
    "Con el método `VISUAL` obtenemos una representación gráfica de `$r`:"
   ]
  },
  {
   "cell_type": "code",
   "execution_count": null,
   "metadata": {},
   "outputs": [],
   "source": [
    "$r->VISUAL;"
   ]
  },
  {
   "cell_type": "markdown",
   "metadata": {},
   "source": [
    "La propiedad `VERTICES` nos indica los vértices y rayos necesarios para expresar al polítopo en la forma $\\mathcal{V}$. Al consultar esta propiedad, `polymake`invoca automáticamente un algoritmo tipo Fourier-Motzkin para cambiar la representación del poliedro mediante la enumeración de sus vértices.\n",
    "\n",
    "Recordar que los vértices tienen la primera coordenada igual a 1, mientras que los rayos tienen la primera coordenada igual a 0."
   ]
  },
  {
   "cell_type": "code",
   "execution_count": null,
   "metadata": {},
   "outputs": [],
   "source": [
    "### mostrar vértices y rayos de $r\n",
    "print($r->VERTICES);"
   ]
  },
  {
   "cell_type": "markdown",
   "metadata": {},
   "source": [
    "## Sumas de Minkowski\n",
    "\n",
    "Definamos al polítopo `$p` como la envolvente convexa del conjunto de puntos $\\{(1,1), (2,1), (1,2)\\}$:"
   ]
  },
  {
   "cell_type": "code",
   "execution_count": null,
   "metadata": {},
   "outputs": [],
   "source": [
    "$p=new Polytope(POINTS=>[[1,1,1],[1,2,1],[1,1,2]]);\n",
    "$p->VISUAL;"
   ]
  },
  {
   "cell_type": "markdown",
   "metadata": {},
   "source": [
    "Definamos ahora a `$q` como el cono generado por los vectores $10 \\choose 9$ y $9 \\choose 10$. Notar que es necesario indicar explícitamente el vértice del cono entre los elementos del parámetro `POINTS`\n",
    "al llamar al constructor `Polytope`. Esto es requerido para obtener un cono de homogeneización de dimensión completa que pueda ser intersecado con el hiperplano $x_0 = 1$ para recuperar nuestro poliedro original."
   ]
  },
  {
   "cell_type": "code",
   "execution_count": null,
   "metadata": {},
   "outputs": [],
   "source": [
    "$q=new Polytope(POINTS=>[[1,0,0],[0,10,9],[0,9,10]]);\n",
    "$q->VISUAL;"
   ]
  },
  {
   "cell_type": "markdown",
   "metadata": {},
   "source": [
    "Para calcular la suma de Minkowski entre `$p` y `$q` podemos emplear la función `minkowski_sum`, la misma que retorna como resultado un nuevo poliedro:"
   ]
  },
  {
   "cell_type": "code",
   "execution_count": null,
   "metadata": {},
   "outputs": [],
   "source": [
    "$m = minkowski_sum($p, $q);\n",
    "$m -> VISUAL;"
   ]
  },
  {
   "cell_type": "markdown",
   "metadata": {},
   "source": [
    "Podemos ahora consultar las diferentes propiedades del nuevo poliedro creado:"
   ]
  },
  {
   "cell_type": "code",
   "execution_count": null,
   "metadata": {
    "scrolled": true
   },
   "outputs": [],
   "source": [
    "print ($m->VERTICES);"
   ]
  },
  {
   "cell_type": "code",
   "execution_count": null,
   "metadata": {},
   "outputs": [],
   "source": [
    "print_constraints($m->FACETS);"
   ]
  },
  {
   "cell_type": "code",
   "execution_count": null,
   "metadata": {},
   "outputs": [],
   "source": [
    "print($m->VERTICES_IN_FACETS);"
   ]
  },
  {
   "cell_type": "markdown",
   "metadata": {},
   "source": [
    "## Conos de recesión\n",
    "\n",
    "Dado un poliedro, `polymake` puede emplearse para calcular su cono de recesión. Considerar el último poliedro `$m`que hemos definido:"
   ]
  },
  {
   "cell_type": "code",
   "execution_count": null,
   "metadata": {},
   "outputs": [],
   "source": [
    "$m->VISUAL;"
   ]
  },
  {
   "cell_type": "markdown",
   "metadata": {},
   "source": [
    "Para recuperar el cono de recesión de `$m` llamamos a la función `recession_cone`:"
   ]
  },
  {
   "cell_type": "code",
   "execution_count": null,
   "metadata": {},
   "outputs": [],
   "source": [
    "$q2= recession_cone($m);\n",
    "$q2 -> VISUAL;"
   ]
  },
  {
   "cell_type": "markdown",
   "metadata": {},
   "source": [
    "Al contrario de lo que ocurre con los poliedros en general, este cono se representa sin homogeneización. La propiedad `RAYS` permite consultar los vectores que lo generan:"
   ]
  },
  {
   "cell_type": "code",
   "execution_count": null,
   "metadata": {},
   "outputs": [],
   "source": [
    "print($q2->RAYS);\n",
    "print(\"---\\n\");\n",
    "print($q2->properties);\n",
    "print(\"---\\n\");\n",
    "print($q->properties);"
   ]
  },
  {
   "cell_type": "markdown",
   "metadata": {},
   "source": [
    "## Ejercicio\n",
    "\n",
    "1. Definamos un polítopo `$h` como un hexágono incrustado en el hiperplano $x_3=0$ en $\\mathbb{R}^3$:"
   ]
  },
  {
   "cell_type": "code",
   "execution_count": null,
   "metadata": {},
   "outputs": [],
   "source": [
    "### $h := conv({(1,0,0), (1/2,2/3,0), (-1/2,2/3,0), (-1,0,0), (1/2,-2/3,0), (-1/2,-2/3,0)})\n",
    "$h=new Polytope(POINTS=>[[1,1,0,0],[1,1/2,2/3,0],[1,-1/2,2/3,0],[1,-1,0,0],\n",
    "[1,1/2,-2/3,0],[1,-1/2,-2/3,0]]);\n",
    "$h->VISUAL;"
   ]
  },
  {
   "cell_type": "markdown",
   "metadata": {},
   "source": [
    "Mostremos las propiedades de `$h`:"
   ]
  },
  {
   "cell_type": "code",
   "execution_count": null,
   "metadata": {},
   "outputs": [],
   "source": [
    "$h->properties;"
   ]
  },
  {
   "cell_type": "markdown",
   "metadata": {},
   "source": [
    "Definamos ahora `$c` como el cono tridimensional generado por los vectores $\\left( \\begin{array}{c} 0 \\\\ 1 \\\\10 \\end{array}\\right)$, $\\left( \\begin{array}{c} 2/3 \\\\ -1/2 \\\\10 \\end{array}\\right)$ y $\\left( \\begin{array}{c} -2/3 \\\\ -1/2 \\\\10 \\end{array}\\right)$:"
   ]
  },
  {
   "cell_type": "code",
   "execution_count": null,
   "metadata": {},
   "outputs": [],
   "source": [
    "### $c:= cone({(0,1,10), (2/3,-1/2,10), (-2/3,-1/2,10)})\n",
    "$c=new Polytope(POINTS=>[[1,0,0,0],[0,0,1,10],[0,2/3,-1/2,10],[0,-2/3,-1/2,10]]);\n",
    "$c->VISUAL;"
   ]
  },
  {
   "cell_type": "markdown",
   "metadata": {},
   "source": [
    "Definamos `$p` como la suma de Minkowski de `$h` y `$c`:"
   ]
  },
  {
   "cell_type": "code",
   "execution_count": null,
   "metadata": {
    "scrolled": false
   },
   "outputs": [],
   "source": [
    "$p=minkowski_sum($h,$c);\n",
    "$p->VISUAL;"
   ]
  },
  {
   "cell_type": "markdown",
   "metadata": {},
   "source": [
    "Consultemos las desigualdades que definen las facetas de `$p`:"
   ]
  },
  {
   "cell_type": "code",
   "execution_count": null,
   "metadata": {},
   "outputs": [],
   "source": [
    "print_constraints($p->FACETS);"
   ]
  },
  {
   "cell_type": "markdown",
   "metadata": {},
   "source": [
    "Consultemos los vértices y rayos de `$p`:"
   ]
  },
  {
   "cell_type": "code",
   "execution_count": null,
   "metadata": {},
   "outputs": [],
   "source": [
    "print($p->VERTICES);"
   ]
  },
  {
   "cell_type": "markdown",
   "metadata": {},
   "source": [
    "Consultemos las incidencias entre los vértices, rayos y facetas de `$p`:"
   ]
  },
  {
   "cell_type": "code",
   "execution_count": null,
   "metadata": {},
   "outputs": [],
   "source": [
    "print($p->VERTICES_IN_FACETS);"
   ]
  },
  {
   "cell_type": "markdown",
   "metadata": {},
   "source": [
    "Recuperemos el cono de recesión de `$p`:"
   ]
  },
  {
   "cell_type": "code",
   "execution_count": null,
   "metadata": {},
   "outputs": [],
   "source": [
    "$c2=recession_cone($p);\n",
    "$c2->VISUAL;"
   ]
  },
  {
   "cell_type": "code",
   "execution_count": null,
   "metadata": {},
   "outputs": [],
   "source": []
  }
 ],
 "metadata": {
  "kernelspec": {
   "display_name": "polymake-4.3",
   "language": "polymake",
   "name": "polymake"
  },
  "language_info": {
   "codemirror_mode": "perl",
   "file_extension": ".pl",
   "mimetype": "text/x-polymake",
   "name": "polymake"
  }
 },
 "nbformat": 4,
 "nbformat_minor": 4
}
