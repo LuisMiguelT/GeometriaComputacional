{
 "cells": [
  {
   "cell_type": "markdown",
   "metadata": {},
   "source": [
    "# Geometría computacional\n",
    "Agosto 2024\n",
    "\n",
    "# Cuarta Evaluación \n",
    "\n",
    "Nombre:\n",
    "\n"
   ]
  },
  {
   "cell_type": "markdown",
   "metadata": {},
   "source": []
  },
  {
   "cell_type": "markdown",
   "metadata": {},
   "source": [
    "1. Definir a `$p` como el polítopo dado por la solución del siguiente sistema de desigualdades lineales:\n",
    "\n",
    "$$\n",
    "\\left\\{\n",
    "\\begin{align*}\n",
    "&x_1 + 2x_2 \\leq 4 \\\\\n",
    "-&x_1 + 2x_2 \\leq 4 \\\\\n",
    "-&2 \\leq x_1 \\leq 2 \\\\\n",
    "-&1 \\leq x_2 \\leq 2 \\\\\n",
    "\\end{align*}\n",
    "\\right.\n",
    "$$\n",
    "\n",
    "Determinar las facetas y los vértices de `$p`, y calcular su dimensión."
   ]
  },
  {
   "cell_type": "code",
   "execution_count": null,
   "metadata": {},
   "outputs": [],
   "source": []
  },
  {
   "cell_type": "markdown",
   "metadata": {},
   "source": [
    "2. Definir a `$q` como una pirámide sobre `$p`. Determinar sus vértices, sus facetas y las incidencias entre vértices y facetas. Representar gráficamente este polítopo."
   ]
  },
  {
   "cell_type": "code",
   "execution_count": null,
   "metadata": {},
   "outputs": [],
   "source": []
  },
  {
   "cell_type": "markdown",
   "metadata": {},
   "source": [
    "3. Definir a `$r` como un prisma sobre `$q`. Determinar sus vértices y sus facetas. Listar todas sus caras, indicando la dimensión de cada una. ¿Cuántas caras de dimensión 2 tiene este polítopo? ¿Cuántas caras de dimensión 2 son combinatoriamente equivalentes a pentágonos?  Dibujar un diagrama de Schlegel de `$r`."
   ]
  },
  {
   "cell_type": "code",
   "execution_count": null,
   "metadata": {},
   "outputs": [],
   "source": []
  },
  {
   "cell_type": "markdown",
   "metadata": {},
   "source": [
    "4. Definir a `$s` como el polar del polítopo `$r`. En caso de ser necesario, trasladar previamente a `$r` para que contenga al origen en su interior. Determinar los vértices y facetas de `$s`."
   ]
  },
  {
   "cell_type": "code",
   "execution_count": null,
   "metadata": {
    "scrolled": true
   },
   "outputs": [],
   "source": []
  },
  {
   "cell_type": "markdown",
   "metadata": {},
   "source": [
    "5. Definir a `$w` como el poliedro dado por:\n",
    "$$\n",
    "\\text{conv}\\left(\n",
    "\\begin{array}{cccc}\n",
    "-2 & -2 & 2  & 2 \\\\\n",
    "1  & -1 & 1  & -1 \\\\\n",
    "-1 & -1 & -1 & -1\n",
    "\\end{array}\n",
    "\\right) +\n",
    "\\text{cone}\\left(\n",
    "\\begin{array}{cccc}\n",
    "1 & -1 & 0  & 0 \\\\\n",
    "0  & 0 & 1  & -1 \\\\\n",
    "10 & 10 & 10 & 10\n",
    "\\end{array}\n",
    "\\right).\n",
    "$$\n",
    "\n",
    "Determinar las facetas de `$w` y graficar este poliedro. "
   ]
  },
  {
   "cell_type": "code",
   "execution_count": null,
   "metadata": {},
   "outputs": [],
   "source": []
  },
  {
   "cell_type": "markdown",
   "metadata": {},
   "source": [
    "### Calificación\n",
    "\n",
    "Cada será calificada sobre 2 puntos.\n",
    "\n",
    "1. / 2 pts\n",
    "2. / 2 pts\n",
    "3. / 2 pts\n",
    "4. / 2 pts\n",
    "5. / 2 pts\n"
   ]
  }
 ],
 "metadata": {
  "kernelspec": {
   "display_name": "polymake-4.3",
   "language": "polymake",
   "name": "polymake"
  },
  "language_info": {
   "codemirror_mode": "perl",
   "file_extension": ".pl",
   "mimetype": "text/x-polymake",
   "name": "polymake"
  }
 },
 "nbformat": 4,
 "nbformat_minor": 4
}
